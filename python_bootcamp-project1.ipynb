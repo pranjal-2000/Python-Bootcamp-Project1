{
 "cells": [
  {
   "cell_type": "code",
   "execution_count": 1,
   "metadata": {},
   "outputs": [
    {
     "name": "stdout",
     "output_type": "stream",
     "text": [
      "Following is the list of zodiac signs:\n",
      "1.Aries\n",
      "2.Taurus\n",
      "3.Gemini\n",
      "4.Cancer\n",
      "5.Leo\n",
      "6.Virgo\n",
      "7.Libra\n",
      "8.Scorpio\n",
      "9.Sagittarius\n",
      "10.Capricon\n",
      "11.Aquarius\n",
      "12.Pisces\n",
      "From the above mentioned zodiac signs\n",
      "enter the number which corresponds to your zodiac sign and press enter to know your future: 9\n",
      "\n",
      "\n",
      "\n",
      "Your horoscope/future is:\n",
      "The people you associate with today will be very important. Some people will seem to be right on your wavelength, but others may drive you absolutely crazy! As soon as you feel that someone is rubbing you the wrong way, distance yourself from them. You aren't in the right frame of mind to deal with feeding people's egos or sacrificing your own desires. What you need now is to be surrounded by people who get you, the people who use the same shorthand you use.\n",
      "Do you wish to continue?\n",
      "Enter yes/no\n",
      "yes\n",
      "Following is the list of zodiac signs:\n",
      "1.Aries\n",
      "2.Taurus\n",
      "3.Gemini\n",
      "4.Cancer\n",
      "5.Leo\n",
      "6.Virgo\n",
      "7.Libra\n",
      "8.Scorpio\n",
      "9.Sagittarius\n",
      "10.Capricon\n",
      "11.Aquarius\n",
      "12.Pisces\n",
      "From the above mentioned zodiac signs\n",
      "enter the number which corresponds to your zodiac sign and press enter to know your future: 1\n",
      "\n",
      "\n",
      "\n",
      "Your horoscope/future is:\n",
      "Accidents are called accidents for a reason. They happen through no one person's concerted efforts. They just happen. If you are involved in a fender bender or any other type of collision (real or metaphorical), avoid taking it personally. Things happen, and every time you can let the stress roll off of your back, you grow and learn. Of course, if you are in a situation where you know someone is working against you, you should feel free to unsheath your claws.\n",
      "Do you wish to continue?\n",
      "Enter yes/no\n",
      "no\n"
     ]
    }
   ],
   "source": [
    "# An application which tells your future based on your zodiac sign\n",
    "condition=True\n",
    "while condition==True:\n",
    "    print(\"Following is the list of zodiac signs:\")\n",
    "    print(\"1.Aries\\n2.Taurus\\n3.Gemini\\n4.Cancer\\n5.Leo\\n6.Virgo\\n7.Libra\\n8.Scorpio\\n9.Sagittarius\\n10.Capricon\\n11.Aquarius\\n12.Pisces\")\n",
    "    print(\"From the above mentioned zodiac signs\") # Prints a list of all the zodiac signs\n",
    "    i=int(input(\"enter the number which corresponds to your zodiac sign and press enter to know your future: \"))# Takes input as no. corresponding to your zodiac sign\n",
    "    print(\"\\n\\n\")\n",
    "    # Will check your zodiac sign and display the according horoscope/future\n",
    "    print(\"Your horoscope/future is:\")\n",
    "    if i==1:\n",
    "        print(\"Accidents are called accidents for a reason. They happen through no one person's concerted efforts. They just happen. If you are involved in a fender bender or any other type of collision (real or metaphorical), avoid taking it personally. Things happen, and every time you can let the stress roll off of your back, you grow and learn. Of course, if you are in a situation where you know someone is working against you, you should feel free to unsheath your claws.\")\n",
    "    elif i==2:\n",
    "        print(\"The art of flirtation takes a lot of time to learn, but you are becoming quite an expert. It's time to stop holding back and start using those killer skills you have learned! If you have someone in your sights, romantically speaking, today is the day to make that connection. Ask a pertinent question or two and help them see you in a new light. If you are currently in a relationship, get ready for things to go to a much hotter level.\")\n",
    "    elif i==3:\n",
    "        print(\"You need to know where to go for the information that will help you most in life. Instead of asking friends for advice on how to fatten up your rapidly thinning piggy bank, ask an expert. Friends are who you should talk to about your love life, work hassles, and other personal issues. But when it comes to credit, investments, and your savings account, you don't want to mix those two worlds. Sharing too much about how much money you make or have could also create unnecessary friction.\")\n",
    "    elif i==4:\n",
    "        print(\"Get out your finest fine-toothed comb because you'll need to go over some very fine print one more time. There are an awful lot of small details that could grow into big, embarrassing issues later on down the line if you don't nip them in the bud now. Probably the last thing you want to do is proofread or double-check your work one more time, but you should do it. It will save you a lot more of your time (and your pride) in the long run.\")\n",
    "    elif i==5:\n",
    "        print(\"Despite the fact that you're feeling better than you have in a while, right now is not the time to go out and celebrate. You are not overly impulsive as a rule, but today you should behave even more conservatively than usual. Bide your time and the right opportunity to have a blast will present itself soon enough. Skip any splurges and stay close to home. You can have just as celebratory a time cuddled up with a good book or your partner as you can at a big party.\")\n",
    "    elif i==6:\n",
    "        print(\"Today is a great day to try a new food, hobby, sport, or adventure that you have always been just a little to scared to try before. Your fears are starting to vanish and your courage is growing, in part because your mind is hungry for new stimulation—even if that stimulation is based on fear! You will be totally fiery and full of energy, so put it to good use by pushing the envelope and pushing past one or two of the boundaries you've built for yourself.\")\n",
    "    elif i==7:\n",
    "        print(\"If you are stuck in the middle of a dilemma right now, doing something that you think is right (even if you aren't totally sure it's right) is better than doing nothing at all. Stop trying to nail down every single detail. You can't eliminate every potential problem. It's time to start acting! Things are never going to be perfect, so if you're waiting until they are, you will be waiting a very long time—too long, in fact. You need to keep moving even if you don't know exactly where you're going.\")\n",
    "    elif i==8:\n",
    "        print(\"Can you have too many friends? The answer, you may be beginning to fear, is yes! There are only so many free hours in your week, and it might be getting tough to prioritize who gets to share them with you. Friendships take as much work as anything else does, but the payoff is truly rewarding. See what you can do to show your friends how much you care.\")\n",
    "    elif i==9:\n",
    "        print(\"The people you associate with today will be very important. Some people will seem to be right on your wavelength, but others may drive you absolutely crazy! As soon as you feel that someone is rubbing you the wrong way, distance yourself from them. You aren't in the right frame of mind to deal with feeding people's egos or sacrificing your own desires. What you need now is to be surrounded by people who get you, the people who use the same shorthand you use.\")\n",
    "    elif i==10:\n",
    "        print(\"Are you running the risk of getting too big for your britches? Just in case, you should give yourself a reality check today before someone else does! Make an effort to get more grounded. Spend time with people who live a different lifestyle. Get a glimpse of what their biggest issues, goals, and concerns are. Just a little bit of effort will wake you up to the reality of your situation and make you much more grateful for what you have.\")\n",
    "    elif i==11:\n",
    "        print(\"This might seem like a typical day early on, but as each hour goes by, you could start to see more and more mysterious actions and events cropping up. Who are the perpetrators? What are they up to!? If you look beneath the surface, you will start to see a pattern and an agenda. This is something exciting, and you should not ignore it. Try to get involved in their shenanigans and you will have a lot of fun. They could use a bright, witty person like you!\")\n",
    "    elif i==12:\n",
    "        print(\" A relationship that you thought was broken beyond all repair still has some life in it. Figure out how you can put it on the road to recovery. There are two people involved in this messy situation, and each of you has your own apologies to make. Be a hero and be the first one to extend an olive branch. Call or e-mail them today. Let them know you're thinking about them and be honest about how you feel. Let down your guard and speak from the heart.\")\n",
    "    else:\n",
    "        print(\"MAYBE THE ENTERED NUMBER IS WRONG!! PLEASE CHECK THE ENTERED NUMBER\") \n",
    "    print(\"Do you wish to continue?\")\n",
    "    n=input(\"Enter yes/no\\n\") # We take input to check if user wishes to continue\n",
    "    if n==\"yes\":              # Will continue if user enters yes \n",
    "        condition=True\n",
    "    else:                     # The program will end if user enters no\n",
    "        condition=False\n",
    "   \n",
    "\n"
   ]
  },
  {
   "cell_type": "code",
   "execution_count": null,
   "metadata": {},
   "outputs": [],
   "source": []
  },
  {
   "cell_type": "code",
   "execution_count": null,
   "metadata": {},
   "outputs": [],
   "source": []
  },
  {
   "cell_type": "code",
   "execution_count": null,
   "metadata": {},
   "outputs": [],
   "source": []
  },
  {
   "cell_type": "code",
   "execution_count": null,
   "metadata": {},
   "outputs": [],
   "source": []
  },
  {
   "cell_type": "code",
   "execution_count": null,
   "metadata": {},
   "outputs": [],
   "source": []
  },
  {
   "cell_type": "code",
   "execution_count": null,
   "metadata": {},
   "outputs": [],
   "source": []
  },
  {
   "cell_type": "code",
   "execution_count": null,
   "metadata": {},
   "outputs": [],
   "source": []
  },
  {
   "cell_type": "code",
   "execution_count": null,
   "metadata": {},
   "outputs": [],
   "source": []
  }
 ],
 "metadata": {
  "kernelspec": {
   "display_name": "Python 3",
   "language": "python",
   "name": "python3"
  },
  "language_info": {
   "codemirror_mode": {
    "name": "ipython",
    "version": 3
   },
   "file_extension": ".py",
   "mimetype": "text/x-python",
   "name": "python",
   "nbconvert_exporter": "python",
   "pygments_lexer": "ipython3",
   "version": "3.8.3"
  }
 },
 "nbformat": 4,
 "nbformat_minor": 4
}
